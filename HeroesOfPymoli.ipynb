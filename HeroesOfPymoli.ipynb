{
 "cells": [
  {
   "cell_type": "markdown",
   "metadata": {},
   "source": [
    "## Heroes of Pymoli Data Analysis"
   ]
  },
  {
   "cell_type": "code",
   "execution_count": 60,
   "metadata": {},
   "outputs": [],
   "source": [
    "import pandas as pd"
   ]
  },
  {
   "cell_type": "code",
   "execution_count": 61,
   "metadata": {},
   "outputs": [],
   "source": [
    "pymoli = \"purchase_data.json\""
   ]
  },
  {
   "cell_type": "code",
   "execution_count": 62,
   "metadata": {},
   "outputs": [
    {
     "data": {
      "text/html": [
       "<div>\n",
       "<style scoped>\n",
       "    .dataframe tbody tr th:only-of-type {\n",
       "        vertical-align: middle;\n",
       "    }\n",
       "\n",
       "    .dataframe tbody tr th {\n",
       "        vertical-align: top;\n",
       "    }\n",
       "\n",
       "    .dataframe thead th {\n",
       "        text-align: right;\n",
       "    }\n",
       "</style>\n",
       "<table border=\"1\" class=\"dataframe\">\n",
       "  <thead>\n",
       "    <tr style=\"text-align: right;\">\n",
       "      <th></th>\n",
       "      <th>Age</th>\n",
       "      <th>Gender</th>\n",
       "      <th>Item ID</th>\n",
       "      <th>Item Name</th>\n",
       "      <th>Price</th>\n",
       "      <th>SN</th>\n",
       "    </tr>\n",
       "  </thead>\n",
       "  <tbody>\n",
       "    <tr>\n",
       "      <th>0</th>\n",
       "      <td>38</td>\n",
       "      <td>Male</td>\n",
       "      <td>165</td>\n",
       "      <td>Bone Crushing Silver Skewer</td>\n",
       "      <td>3.37</td>\n",
       "      <td>Aelalis34</td>\n",
       "    </tr>\n",
       "    <tr>\n",
       "      <th>1</th>\n",
       "      <td>21</td>\n",
       "      <td>Male</td>\n",
       "      <td>119</td>\n",
       "      <td>Stormbringer, Dark Blade of Ending Misery</td>\n",
       "      <td>2.32</td>\n",
       "      <td>Eolo46</td>\n",
       "    </tr>\n",
       "    <tr>\n",
       "      <th>2</th>\n",
       "      <td>34</td>\n",
       "      <td>Male</td>\n",
       "      <td>174</td>\n",
       "      <td>Primitive Blade</td>\n",
       "      <td>2.46</td>\n",
       "      <td>Assastnya25</td>\n",
       "    </tr>\n",
       "    <tr>\n",
       "      <th>3</th>\n",
       "      <td>21</td>\n",
       "      <td>Male</td>\n",
       "      <td>92</td>\n",
       "      <td>Final Critic</td>\n",
       "      <td>1.36</td>\n",
       "      <td>Pheusrical25</td>\n",
       "    </tr>\n",
       "    <tr>\n",
       "      <th>4</th>\n",
       "      <td>23</td>\n",
       "      <td>Male</td>\n",
       "      <td>63</td>\n",
       "      <td>Stormfury Mace</td>\n",
       "      <td>1.27</td>\n",
       "      <td>Aela59</td>\n",
       "    </tr>\n",
       "  </tbody>\n",
       "</table>\n",
       "</div>"
      ],
      "text/plain": [
       "   Age Gender  Item ID                                  Item Name  Price  \\\n",
       "0   38   Male      165                Bone Crushing Silver Skewer   3.37   \n",
       "1   21   Male      119  Stormbringer, Dark Blade of Ending Misery   2.32   \n",
       "2   34   Male      174                            Primitive Blade   2.46   \n",
       "3   21   Male       92                               Final Critic   1.36   \n",
       "4   23   Male       63                             Stormfury Mace   1.27   \n",
       "\n",
       "             SN  \n",
       "0     Aelalis34  \n",
       "1        Eolo46  \n",
       "2   Assastnya25  \n",
       "3  Pheusrical25  \n",
       "4        Aela59  "
      ]
     },
     "execution_count": 62,
     "metadata": {},
     "output_type": "execute_result"
    }
   ],
   "source": [
    "#test the table\n",
    "data = pd.read_json(pymoli)\n",
    "data.head()"
   ]
  },
  {
   "cell_type": "code",
   "execution_count": 63,
   "metadata": {},
   "outputs": [
    {
     "data": {
      "text/plain": [
       "Age          780\n",
       "Gender       780\n",
       "Item ID      780\n",
       "Item Name    780\n",
       "Price        780\n",
       "SN           780\n",
       "dtype: int64"
      ]
     },
     "execution_count": 63,
     "metadata": {},
     "output_type": "execute_result"
    }
   ],
   "source": [
    "#test any NA data or empty rows\n",
    "data.count()"
   ]
  },
  {
   "cell_type": "code",
   "execution_count": 64,
   "metadata": {},
   "outputs": [
    {
     "data": {
      "text/plain": [
       "Age            int64\n",
       "Gender        object\n",
       "Item ID        int64\n",
       "Item Name     object\n",
       "Price        float64\n",
       "SN            object\n",
       "dtype: object"
      ]
     },
     "execution_count": 64,
     "metadata": {},
     "output_type": "execute_result"
    }
   ],
   "source": [
    "#check data types\n",
    "data.dtypes"
   ]
  },
  {
   "cell_type": "code",
   "execution_count": 65,
   "metadata": {},
   "outputs": [
    {
     "name": "stdout",
     "output_type": "stream",
     "text": [
      "Total number of Heroes of Pymoli players: 573\n"
     ]
    }
   ],
   "source": [
    "#total number of players\n",
    "data_players = len(data[\"SN\"].unique())\n",
    "print(\"Total number of Heroes of Pymoli players:\", data_players)"
   ]
  },
  {
   "cell_type": "code",
   "execution_count": 66,
   "metadata": {},
   "outputs": [
    {
     "name": "stdout",
     "output_type": "stream",
     "text": [
      "***PURCHASE ANALYSIS***\n"
     ]
    },
    {
     "data": {
      "text/html": [
       "<div>\n",
       "<style scoped>\n",
       "    .dataframe tbody tr th:only-of-type {\n",
       "        vertical-align: middle;\n",
       "    }\n",
       "\n",
       "    .dataframe tbody tr th {\n",
       "        vertical-align: top;\n",
       "    }\n",
       "\n",
       "    .dataframe thead th {\n",
       "        text-align: right;\n",
       "    }\n",
       "</style>\n",
       "<table border=\"1\" class=\"dataframe\">\n",
       "  <thead>\n",
       "    <tr style=\"text-align: right;\">\n",
       "      <th></th>\n",
       "      <th>Average purchase price</th>\n",
       "      <th>Number of Unique Items</th>\n",
       "      <th>Total number of purchase</th>\n",
       "      <th>Total revenue($)</th>\n",
       "    </tr>\n",
       "  </thead>\n",
       "  <tbody>\n",
       "    <tr>\n",
       "      <th>0</th>\n",
       "      <td>2.93</td>\n",
       "      <td>183</td>\n",
       "      <td>780</td>\n",
       "      <td>2286.33</td>\n",
       "    </tr>\n",
       "  </tbody>\n",
       "</table>\n",
       "</div>"
      ],
      "text/plain": [
       "   Average purchase price  Number of Unique Items  Total number of purchase  \\\n",
       "0                    2.93                     183                       780   \n",
       "\n",
       "   Total revenue($)  \n",
       "0           2286.33  "
      ]
     },
     "execution_count": 66,
     "metadata": {},
     "output_type": "execute_result"
    }
   ],
   "source": [
    "#Purchasing Analysis (Total): number of uniqe items, avg purchase price, total number of purchases, total revenue\n",
    "#number of unique items\n",
    "data_items = len(data[\"Item ID\"].value_counts())\n",
    "#total revenue \n",
    "data_revenue = data[\"Price\"].sum()\n",
    "#total number of purchases\n",
    "data_itemcount = data[\"Price\"].count()\n",
    "#avg purchase price\n",
    "data_avg = round(data_revenue/data_itemcount, 2)\n",
    "#data frame of purchasing analysis\n",
    "summary_purchase = pd.DataFrame({\"Number of Unique Items\": [data_items],\n",
    "                         \"Average purchase price\": [data_avg],\n",
    "                         \"Total revenue($)\": [data_revenue],\n",
    "                         \"Total number of purchase\": [data_itemcount]\n",
    "                                })\n",
    "print(\"***PURCHASE ANALYSIS***\")\n",
    "summary_purchase"
   ]
  },
  {
   "cell_type": "code",
   "execution_count": 67,
   "metadata": {},
   "outputs": [
    {
     "data": {
      "text/plain": [
       "Male                     633\n",
       "Female                   136\n",
       "Other / Non-Disclosed     11\n",
       "Name: Gender, dtype: int64"
      ]
     },
     "execution_count": 67,
     "metadata": {},
     "output_type": "execute_result"
    }
   ],
   "source": [
    "#Before we are making gender demographic analysis, we have to go over each data and identify any differences\n",
    "#There is a data conflict where total number of players is 573, but the total number of male/female/other count is 780 as it is shown in table below.\n",
    "#it means some players with same ID made a mutiple purchases\n",
    "#therefore, we have to aim for the total number 573 in order to make an accurate gender demographic analysis\n",
    "data_gender = data[\"Gender\"].value_counts()\n",
    "data_gender"
   ]
  },
  {
   "cell_type": "code",
   "execution_count": 68,
   "metadata": {},
   "outputs": [
    {
     "data": {
      "text/plain": [
       "Undirrala66        5\n",
       "Saedue76           4\n",
       "Sondastan54        4\n",
       "Mindimnya67        4\n",
       "Qarwen67           4\n",
       "Hailaphos89        4\n",
       "Yasriphos60        3\n",
       "Isurria36          3\n",
       "Chadjask77         3\n",
       "Aeduera68          3\n",
       "Sondim43           3\n",
       "Haellysu29         3\n",
       "Eoda93             3\n",
       "Chamistast30       3\n",
       "Eusri70            3\n",
       "Seorithstilis90    3\n",
       "Ila44              3\n",
       "Yadanun74          3\n",
       "Aerithllora36      3\n",
       "Frichosiala98      3\n",
       "Ialistidru50       3\n",
       "Haerith37          3\n",
       "Lisistaya47        3\n",
       "Frichaya88         3\n",
       "Isursti83          3\n",
       "Mindirra92         3\n",
       "Lisossa63          3\n",
       "Chadossa56         3\n",
       "Chanastsda67       3\n",
       "Aduephos78         3\n",
       "                  ..\n",
       "Lisassa39          1\n",
       "Hala31             1\n",
       "Lirtossan50        1\n",
       "Mindassast27       1\n",
       "Ilast79            1\n",
       "Filrion59          1\n",
       "Yasur85            1\n",
       "Sondassasya91      1\n",
       "Heosurnuru52       1\n",
       "Ilariarin45        1\n",
       "Chanirra79         1\n",
       "Iskjaskan81        1\n",
       "Ilophos58          1\n",
       "Ilassa51           1\n",
       "Frichim27          1\n",
       "Assossa43          1\n",
       "Dyally87           1\n",
       "Jiskimsda56        1\n",
       "Ristydru66         1\n",
       "Iskassa50          1\n",
       "Aeliriarin93       1\n",
       "Iral74             1\n",
       "Lirtista72         1\n",
       "Lirtistanya48      1\n",
       "Marundi65          1\n",
       "Aesty51            1\n",
       "Mindossasya74      1\n",
       "Ina92              1\n",
       "Iskosian40         1\n",
       "Saidairiaphos61    1\n",
       "Name: SN, Length: 573, dtype: int64"
      ]
     },
     "execution_count": 68,
     "metadata": {},
     "output_type": "execute_result"
    }
   ],
   "source": [
    "#first, we are going to discover any duplicate purchase on one account\n",
    "data[\"SN\"].value_counts()"
   ]
  },
  {
   "cell_type": "code",
   "execution_count": 69,
   "metadata": {},
   "outputs": [
    {
     "data": {
      "text/plain": [
       "<bound method NDFrame.head of                                       Price\n",
       "Gender                SN                   \n",
       "Female                Aenarap34        1.65\n",
       "                      Aeral43          2.72\n",
       "                      Aeri84           6.60\n",
       "                      Aiduesu83        2.63\n",
       "                      Ailaesuir66      1.88\n",
       "                      Aina42           3.01\n",
       "                      Aina43           2.46\n",
       "                      Airithrin43      3.57\n",
       "                      Aisur51          1.49\n",
       "                      Alaesu91         1.03\n",
       "                      Alim85           3.61\n",
       "                      Anallorgue57     4.87\n",
       "                      Assassasta79     9.12\n",
       "                      Chadossa56       7.85\n",
       "                      Chamadar27       4.23\n",
       "                      Chamilsan75      5.64\n",
       "                      Chamistast30     4.49\n",
       "                      Chanastnya43     1.36\n",
       "                      Chanosiast43     5.92\n",
       "                      Chanosseya79     4.00\n",
       "                      Cosadar58        3.91\n",
       "                      Crausirra42      3.29\n",
       "                      Deural48         7.27\n",
       "                      Eodailis27       3.55\n",
       "                      Eoral49          1.84\n",
       "                      Eoralphos86      4.25\n",
       "                      Eosurdru76       7.24\n",
       "                      Eryon48          2.11\n",
       "                      Ethruard50       5.70\n",
       "                      Eulaeria40       3.73\n",
       "...                                     ...\n",
       "Male                  Yadacal26        1.93\n",
       "                      Yadaisuir65      8.56\n",
       "                      Yadanun74        9.09\n",
       "                      Yalaeria91       1.88\n",
       "                      Yaliru88         3.71\n",
       "                      Yalo71           2.41\n",
       "                      Yaralnura48      4.19\n",
       "                      Yararmol43       1.55\n",
       "                      Yarirarn35       2.88\n",
       "                      Yaristi64        1.24\n",
       "                      Yarithllodeu72   2.19\n",
       "                      Yarithphos28     2.35\n",
       "                      Yarithsurgue62   4.81\n",
       "                      Yarmol79         2.91\n",
       "                      Yarolwen77       6.98\n",
       "                      Yasriphos60     10.40\n",
       "                      Yasur35          2.78\n",
       "                      Yasur85          2.04\n",
       "                      Yathecal72       7.77\n",
       "                      Yathecal82       2.41\n",
       "                      Zhisrisu83       2.46\n",
       "                      Zontibe81        3.71\n",
       "Other / Non-Disclosed Aillycal84       4.00\n",
       "                      Aithelis62       3.79\n",
       "                      Assassa38        5.61\n",
       "                      Euna48           4.25\n",
       "                      Eurisuru25       8.29\n",
       "                      Faralcil63       3.27\n",
       "                      Frichistasta59   4.17\n",
       "                      Tyaerith73       2.36\n",
       "\n",
       "[573 rows x 1 columns]>"
      ]
     },
     "execution_count": 69,
     "metadata": {},
     "output_type": "execute_result"
    }
   ],
   "source": [
    "#Then, we will make a group by SN then find out the gender distribution\n",
    "#this is a list of each players' purchses based on their gender distribution\n",
    "#at the end, we can confirm that it matches with the total number of player:573\n",
    "group_gender = data.groupby([\"Gender\", \"SN\"])\n",
    "group_SN = pd.DataFrame(group_gender[\"Price\"].sum())\n",
    "group_SN.head"
   ]
  },
  {
   "cell_type": "code",
   "execution_count": 70,
   "metadata": {},
   "outputs": [
    {
     "data": {
      "text/html": [
       "<div>\n",
       "<style scoped>\n",
       "    .dataframe tbody tr th:only-of-type {\n",
       "        vertical-align: middle;\n",
       "    }\n",
       "\n",
       "    .dataframe tbody tr th {\n",
       "        vertical-align: top;\n",
       "    }\n",
       "\n",
       "    .dataframe thead th {\n",
       "        text-align: right;\n",
       "    }\n",
       "</style>\n",
       "<table border=\"1\" class=\"dataframe\">\n",
       "  <thead>\n",
       "    <tr style=\"text-align: right;\">\n",
       "      <th></th>\n",
       "      <th>Gender</th>\n",
       "      <th>Gender Count</th>\n",
       "    </tr>\n",
       "  </thead>\n",
       "  <tbody>\n",
       "    <tr>\n",
       "      <th>0</th>\n",
       "      <td>Female</td>\n",
       "      <td>100</td>\n",
       "    </tr>\n",
       "    <tr>\n",
       "      <th>1</th>\n",
       "      <td>Male</td>\n",
       "      <td>465</td>\n",
       "    </tr>\n",
       "    <tr>\n",
       "      <th>2</th>\n",
       "      <td>Other / Non-Disclosed</td>\n",
       "      <td>8</td>\n",
       "    </tr>\n",
       "  </tbody>\n",
       "</table>\n",
       "</div>"
      ],
      "text/plain": [
       "                  Gender  Gender Count\n",
       "0                 Female           100\n",
       "1                   Male           465\n",
       "2  Other / Non-Disclosed             8"
      ]
     },
     "execution_count": 70,
     "metadata": {},
     "output_type": "execute_result"
    }
   ],
   "source": [
    "#now we can count the final number of male/female/other distribtuion within SN(unique ID)\n",
    "gender_count = group_SN.count(level =\"Gender\")\n",
    "count_rename = gender_count.rename(columns={\"Price\": \"Gender Count\"})\n",
    "count_rename.reset_index()"
   ]
  },
  {
   "cell_type": "code",
   "execution_count": 71,
   "metadata": {},
   "outputs": [],
   "source": [
    "#gender Demographics\n",
    "#percentage/count of gender \n",
    "female_perct = round(100/573*100, 2)\n",
    "male_perct = round(465/573*100, 2)\n",
    "other_perct = round(8/573*100, 2)\n",
    "gender_perct = [female_perct,male_perct,other_perct]\n",
    "count_rename[\"Gender Percentage\"] = gender_perct\n",
    "count_rename[\"Gender Percentage\"] = count_rename[\"Gender Percentage\"].map(\"{:.2f}%\".format)\n"
   ]
  },
  {
   "cell_type": "code",
   "execution_count": 72,
   "metadata": {},
   "outputs": [],
   "source": [
    "#purchase count, avg purchase, total purchase, normalized totals\n",
    "#first make female data table\n",
    "female_data = data.loc[data[\"Gender\"] == \"Female\", :]\n",
    "#female purchse count\n",
    "female_buy = female_data[\"Price\"].count()\n",
    "#female purchase total\n",
    "female_sum = round((female_data[\"Price\"].sum()),2)\n",
    "#female avg\n",
    "female_avg = round((female_data[\"Price\"].mean()),2)\n",
    "#female normalized total\n",
    "female_normal = round((female_sum/female_buy),2)"
   ]
  },
  {
   "cell_type": "code",
   "execution_count": 73,
   "metadata": {},
   "outputs": [],
   "source": [
    "#first make male data table\n",
    "male_data = data.loc[data[\"Gender\"] == \"Male\", :]\n",
    "#fmale purchse count\n",
    "male_buy = male_data[\"Price\"].count()\n",
    "#male purchase total\n",
    "male_sum = round((male_data[\"Price\"].sum()),2)\n",
    "#male avg\n",
    "male_avg = round((male_data[\"Price\"].mean()),2)\n",
    "#male normalized total\n",
    "male_normal = round((male_sum/male_buy),2)"
   ]
  },
  {
   "cell_type": "code",
   "execution_count": 74,
   "metadata": {},
   "outputs": [],
   "source": [
    "#first make other data table\n",
    "other_data = data.loc[data[\"Gender\"] == \"Other / Non-Disclosed\", :]\n",
    "#fmale purchse count\n",
    "other_buy = other_data[\"Price\"].count()\n",
    "#male purchase total\n",
    "other_sum = round((other_data[\"Price\"].sum()),2)\n",
    "#male avg\n",
    "other_avg = round((other_data[\"Price\"].mean()),2)\n",
    "#male normalized total\n",
    "other_normal = round((other_sum/other_buy),2)"
   ]
  },
  {
   "cell_type": "code",
   "execution_count": 75,
   "metadata": {},
   "outputs": [],
   "source": [
    "#comnaing data to make a table\n",
    "gender_buy = [female_buy, male_buy, other_buy]\n",
    "gender_sum = [female_sum, male_sum, other_sum]\n",
    "gender_avg = [female_avg, male_avg, other_avg]\n",
    "gender_normal = [female_normal, male_normal, other_normal]"
   ]
  },
  {
   "cell_type": "code",
   "execution_count": 76,
   "metadata": {},
   "outputs": [
    {
     "name": "stdout",
     "output_type": "stream",
     "text": [
      "***GENDER DEMOGRAPHICS***\n"
     ]
    },
    {
     "data": {
      "text/html": [
       "<div>\n",
       "<style scoped>\n",
       "    .dataframe tbody tr th:only-of-type {\n",
       "        vertical-align: middle;\n",
       "    }\n",
       "\n",
       "    .dataframe tbody tr th {\n",
       "        vertical-align: top;\n",
       "    }\n",
       "\n",
       "    .dataframe thead th {\n",
       "        text-align: right;\n",
       "    }\n",
       "</style>\n",
       "<table border=\"1\" class=\"dataframe\">\n",
       "  <thead>\n",
       "    <tr style=\"text-align: right;\">\n",
       "      <th></th>\n",
       "      <th>Gender</th>\n",
       "      <th>Gender Count</th>\n",
       "      <th>Gender Percentage</th>\n",
       "      <th>Gender Purchase Count</th>\n",
       "      <th>Gender Purchase Total</th>\n",
       "      <th>Gender Purchase Average</th>\n",
       "      <th>Gender Purchase Normalized Total</th>\n",
       "    </tr>\n",
       "  </thead>\n",
       "  <tbody>\n",
       "    <tr>\n",
       "      <th>0</th>\n",
       "      <td>Female</td>\n",
       "      <td>100</td>\n",
       "      <td>17.45%</td>\n",
       "      <td>136</td>\n",
       "      <td>$382.91</td>\n",
       "      <td>$2.82</td>\n",
       "      <td>$2.82</td>\n",
       "    </tr>\n",
       "    <tr>\n",
       "      <th>1</th>\n",
       "      <td>Male</td>\n",
       "      <td>465</td>\n",
       "      <td>81.15%</td>\n",
       "      <td>633</td>\n",
       "      <td>$1867.68</td>\n",
       "      <td>$2.95</td>\n",
       "      <td>$2.95</td>\n",
       "    </tr>\n",
       "    <tr>\n",
       "      <th>2</th>\n",
       "      <td>Other / Non-Disclosed</td>\n",
       "      <td>8</td>\n",
       "      <td>1.40%</td>\n",
       "      <td>11</td>\n",
       "      <td>$35.74</td>\n",
       "      <td>$3.25</td>\n",
       "      <td>$3.25</td>\n",
       "    </tr>\n",
       "  </tbody>\n",
       "</table>\n",
       "</div>"
      ],
      "text/plain": [
       "                  Gender  Gender Count Gender Percentage  \\\n",
       "0                 Female           100            17.45%   \n",
       "1                   Male           465            81.15%   \n",
       "2  Other / Non-Disclosed             8             1.40%   \n",
       "\n",
       "   Gender Purchase Count Gender Purchase Total Gender Purchase Average  \\\n",
       "0                    136               $382.91                   $2.82   \n",
       "1                    633              $1867.68                   $2.95   \n",
       "2                     11                $35.74                   $3.25   \n",
       "\n",
       "  Gender Purchase Normalized Total  \n",
       "0                            $2.82  \n",
       "1                            $2.95  \n",
       "2                            $3.25  "
      ]
     },
     "execution_count": 76,
     "metadata": {},
     "output_type": "execute_result"
    }
   ],
   "source": [
    "#Final Gender Analysis\n",
    "count_rename[\"Gender Purchase Count\"] = gender_buy\n",
    "count_rename[\"Gender Purchase Total\"] = gender_sum\n",
    "count_rename[\"Gender Purchase Total\"] = count_rename[\"Gender Purchase Total\"].map(\"${:.2f}\".format)\n",
    "count_rename[\"Gender Purchase Average\"] = gender_avg\n",
    "count_rename[\"Gender Purchase Average\"] = count_rename[\"Gender Purchase Average\"].map(\"${:.2f}\".format)\n",
    "count_rename[\"Gender Purchase Normalized Total\"] = gender_normal\n",
    "count_rename[\"Gender Purchase Normalized Total\"] = count_rename[\"Gender Purchase Normalized Total\"].map(\"${:.2f}\".format)\n",
    "print(\"***GENDER DEMOGRAPHICS***\")\n",
    "count_rename.reset_index()"
   ]
  },
  {
   "cell_type": "code",
   "execution_count": 77,
   "metadata": {},
   "outputs": [],
   "source": [
    "#Age Demographics**\n",
    "#The below each broken into bins of 4 years (i.e. &lt;10, 10-14, 15-19, etc.) \n",
    "#Purchase Count\n",
    "#Average Purchase Price\n",
    "#Total Purchase Value\n",
    "#Normalized Totals"
   ]
  },
  {
   "cell_type": "code",
   "execution_count": 78,
   "metadata": {},
   "outputs": [
    {
     "name": "stdout",
     "output_type": "stream",
     "text": [
      "7\n",
      "45\n"
     ]
    }
   ],
   "source": [
    "#first find out the min and max age numbers\n",
    "print(data[\"Age\"].min())\n",
    "print(data[\"Age\"].max())"
   ]
  },
  {
   "cell_type": "code",
   "execution_count": 79,
   "metadata": {},
   "outputs": [],
   "source": [
    "#create age-group table as same as gender analysis table method\n",
    "bins = [0, 10, 14, 18, 22, 26, 30, 34, 38, 42, 46]\n",
    "group = [\"<10\", \"10-14\", \"14-18\", \"18-22\", \"22-26\", \"26-30\", \"30-34\",\"34-38\", \"38-42\", \"42-46\"]\n",
    "data[\"Age Group\"] = pd.cut(data[\"Age\"], bins, labels=group)\n",
    "group_age = data.groupby([\"Age Group\"])\n",
    "age_group = pd.DataFrame(group_age[\"Price\"].sum())\n",
    "age_rename = age_group.rename(columns={\"Price\": \"Total Purchase\"})\n",
    "age_count = pd.DataFrame(group_age[\"Price\"].count())\n",
    "age_count[\"Total Purchase\"] = age_rename\n",
    "age_count_rename = age_count.rename(columns={\"Price\": \"Purchase Count\"})\n",
    "#check the table and check the sum of Total Purchase mathes with the Total Revenue number\n",
    "#calculate avg and normalized totals\n",
    "age_avg = pd.DataFrame(round(group_age[\"Price\"].mean(),2))\n",
    "age_count_rename[\"Average Purchase\"] = age_avg"
   ]
  },
  {
   "cell_type": "code",
   "execution_count": 80,
   "metadata": {},
   "outputs": [
    {
     "data": {
      "text/plain": [
       "18-22    178\n",
       "22-26    153\n",
       "14-18     84\n",
       "26-30     44\n",
       "30-34     34\n",
       "34-38     25\n",
       "<10       22\n",
       "10-14     20\n",
       "38-42     11\n",
       "42-46      2\n",
       "Name: Age Group, dtype: int64"
      ]
     },
     "execution_count": 80,
     "metadata": {},
     "output_type": "execute_result"
    }
   ],
   "source": [
    "#in order to calculate the count of each age groups, we have to eliminate any duplicated players ID who made a multiple purchases\n",
    "#as a result, total number should be 573 as below table.\n",
    "no_duplicate = data.drop_duplicates(subset = \"SN\", keep='first')\n",
    "age_duplicate = no_duplicate[\"Age Group\"].value_counts()\n",
    "age_duplicate"
   ]
  },
  {
   "cell_type": "code",
   "execution_count": 81,
   "metadata": {},
   "outputs": [],
   "source": [
    "#age group analysis\n",
    "age_count_rename[\"Age Count\"] = age_duplicate\n",
    "age_perct = round(age_duplicate/573*100, 2)\n",
    "age_count_rename[\"Age Percentitle\"] = age_perct\n",
    "age_normal = round(pd.DataFrame(age_count_rename[\"Total Purchase\"]/age_count_rename[\"Age Count\"]),2)\n",
    "age_count_rename[\"Normalized Purchase\"] = age_normal\n",
    "age_count_rename [\"Age Percentitle\"] = age_count_rename[\"Age Percentitle\"].map(\"{:.2f}%\".format)\n",
    "age_count_rename[\"Total Purchase\"] = age_count_rename[\"Total Purchase\"].map(\"${:.2f}\".format)\n",
    "age_count_rename[\"Average Purchase\"] = age_count_rename[\"Average Purchase\"].map(\"${:.2f}\".format)\n",
    "age_count_rename[\"Normalized Purchase\"] = age_count_rename[\"Normalized Purchase\"].map(\"${:.2f}\".format)"
   ]
  },
  {
   "cell_type": "code",
   "execution_count": 82,
   "metadata": {},
   "outputs": [
    {
     "name": "stdout",
     "output_type": "stream",
     "text": [
      "***AGE GROUP ANALYSIS***\n"
     ]
    },
    {
     "data": {
      "text/html": [
       "<div>\n",
       "<style scoped>\n",
       "    .dataframe tbody tr th:only-of-type {\n",
       "        vertical-align: middle;\n",
       "    }\n",
       "\n",
       "    .dataframe tbody tr th {\n",
       "        vertical-align: top;\n",
       "    }\n",
       "\n",
       "    .dataframe thead th {\n",
       "        text-align: right;\n",
       "    }\n",
       "</style>\n",
       "<table border=\"1\" class=\"dataframe\">\n",
       "  <thead>\n",
       "    <tr style=\"text-align: right;\">\n",
       "      <th></th>\n",
       "      <th>Age Group</th>\n",
       "      <th>Age Count</th>\n",
       "      <th>Age Percentitle</th>\n",
       "      <th>Total Purchase</th>\n",
       "      <th>Purchase Count</th>\n",
       "      <th>Average Purchase</th>\n",
       "      <th>Normalized Purchase</th>\n",
       "    </tr>\n",
       "  </thead>\n",
       "  <tbody>\n",
       "    <tr>\n",
       "      <th>0</th>\n",
       "      <td>&lt;10</td>\n",
       "      <td>22</td>\n",
       "      <td>3.84%</td>\n",
       "      <td>$96.62</td>\n",
       "      <td>32</td>\n",
       "      <td>$3.02</td>\n",
       "      <td>$4.39</td>\n",
       "    </tr>\n",
       "    <tr>\n",
       "      <th>1</th>\n",
       "      <td>10-14</td>\n",
       "      <td>20</td>\n",
       "      <td>3.49%</td>\n",
       "      <td>$83.79</td>\n",
       "      <td>31</td>\n",
       "      <td>$2.70</td>\n",
       "      <td>$4.19</td>\n",
       "    </tr>\n",
       "    <tr>\n",
       "      <th>2</th>\n",
       "      <td>14-18</td>\n",
       "      <td>84</td>\n",
       "      <td>14.66%</td>\n",
       "      <td>$319.32</td>\n",
       "      <td>111</td>\n",
       "      <td>$2.88</td>\n",
       "      <td>$3.80</td>\n",
       "    </tr>\n",
       "    <tr>\n",
       "      <th>3</th>\n",
       "      <td>18-22</td>\n",
       "      <td>178</td>\n",
       "      <td>31.06%</td>\n",
       "      <td>$676.20</td>\n",
       "      <td>231</td>\n",
       "      <td>$2.93</td>\n",
       "      <td>$3.80</td>\n",
       "    </tr>\n",
       "    <tr>\n",
       "      <th>4</th>\n",
       "      <td>22-26</td>\n",
       "      <td>153</td>\n",
       "      <td>26.70%</td>\n",
       "      <td>$608.02</td>\n",
       "      <td>207</td>\n",
       "      <td>$2.94</td>\n",
       "      <td>$3.97</td>\n",
       "    </tr>\n",
       "    <tr>\n",
       "      <th>5</th>\n",
       "      <td>26-30</td>\n",
       "      <td>44</td>\n",
       "      <td>7.68%</td>\n",
       "      <td>$187.99</td>\n",
       "      <td>63</td>\n",
       "      <td>$2.98</td>\n",
       "      <td>$4.27</td>\n",
       "    </tr>\n",
       "    <tr>\n",
       "      <th>6</th>\n",
       "      <td>30-34</td>\n",
       "      <td>34</td>\n",
       "      <td>5.93%</td>\n",
       "      <td>$141.24</td>\n",
       "      <td>46</td>\n",
       "      <td>$3.07</td>\n",
       "      <td>$4.15</td>\n",
       "    </tr>\n",
       "    <tr>\n",
       "      <th>7</th>\n",
       "      <td>34-38</td>\n",
       "      <td>25</td>\n",
       "      <td>4.36%</td>\n",
       "      <td>$104.06</td>\n",
       "      <td>37</td>\n",
       "      <td>$2.81</td>\n",
       "      <td>$4.16</td>\n",
       "    </tr>\n",
       "    <tr>\n",
       "      <th>8</th>\n",
       "      <td>38-42</td>\n",
       "      <td>11</td>\n",
       "      <td>1.92%</td>\n",
       "      <td>$62.56</td>\n",
       "      <td>20</td>\n",
       "      <td>$3.13</td>\n",
       "      <td>$5.69</td>\n",
       "    </tr>\n",
       "    <tr>\n",
       "      <th>9</th>\n",
       "      <td>42-46</td>\n",
       "      <td>2</td>\n",
       "      <td>0.35%</td>\n",
       "      <td>$6.53</td>\n",
       "      <td>2</td>\n",
       "      <td>$3.26</td>\n",
       "      <td>$3.26</td>\n",
       "    </tr>\n",
       "  </tbody>\n",
       "</table>\n",
       "</div>"
      ],
      "text/plain": [
       "  Age Group  Age Count Age Percentitle Total Purchase  Purchase Count  \\\n",
       "0       <10         22           3.84%         $96.62              32   \n",
       "1     10-14         20           3.49%         $83.79              31   \n",
       "2     14-18         84          14.66%        $319.32             111   \n",
       "3     18-22        178          31.06%        $676.20             231   \n",
       "4     22-26        153          26.70%        $608.02             207   \n",
       "5     26-30         44           7.68%        $187.99              63   \n",
       "6     30-34         34           5.93%        $141.24              46   \n",
       "7     34-38         25           4.36%        $104.06              37   \n",
       "8     38-42         11           1.92%         $62.56              20   \n",
       "9     42-46          2           0.35%          $6.53               2   \n",
       "\n",
       "  Average Purchase Normalized Purchase  \n",
       "0            $3.02               $4.39  \n",
       "1            $2.70               $4.19  \n",
       "2            $2.88               $3.80  \n",
       "3            $2.93               $3.80  \n",
       "4            $2.94               $3.97  \n",
       "5            $2.98               $4.27  \n",
       "6            $3.07               $4.15  \n",
       "7            $2.81               $4.16  \n",
       "8            $3.13               $5.69  \n",
       "9            $3.26               $3.26  "
      ]
     },
     "execution_count": 82,
     "metadata": {},
     "output_type": "execute_result"
    }
   ],
   "source": [
    "#Final age analysis table\n",
    "age_summary = age_count_rename[[\"Age Count\", \"Age Percentitle\", \"Total Purchase\", \"Purchase Count\", \"Average Purchase\", \"Normalized Purchase\"]]\n",
    "print(\"***AGE GROUP ANALYSIS***\")\n",
    "age_summary.reset_index()"
   ]
  },
  {
   "cell_type": "code",
   "execution_count": 83,
   "metadata": {},
   "outputs": [],
   "source": [
    "#top spenders\n",
    "#Identify the the top 5 spenders in the game by total purchase value, then list (in a table):\n",
    "#SN, purchase count, average purchase price, total purchase value\n",
    "top_spender = data.groupby([\"SN\"])\n",
    "top_sn = pd.DataFrame(top_spender[\"Price\"].sum()).sort_values([\"Price\"], ascending=False)\n",
    "top_sn_count = pd.DataFrame(top_spender[\"Price\"].count())\n",
    "top_sn_avg = round(pd.DataFrame(top_spender[\"Price\"].mean()),2)\n",
    "top_sn_rename = top_sn.rename(columns={\"Price\": \"Total Purchase\"}) \n",
    "top_count_rename = top_sn_count.rename(columns={\"Price\": \"Purchase Count\"}) \n",
    "top_avg_rename = top_sn_avg.rename(columns={\"Price\": \"Average Purchase\"}) \n",
    "top_sn_rename[\"Purchase Count\"] = top_count_rename\n",
    "top_sn_rename[\"Average Purchase\"] = top_avg_rename\n",
    "top_sn_rename[\"Total Purchase\"] = top_sn_rename[\"Total Purchase\"].map(\"${:.2f}\".format)\n",
    "top_sn_rename[\"Average Purchase\"] = top_sn_rename[\"Average Purchase\"].map(\"${:.2f}\".format)"
   ]
  },
  {
   "cell_type": "code",
   "execution_count": 84,
   "metadata": {},
   "outputs": [
    {
     "name": "stdout",
     "output_type": "stream",
     "text": [
      "***MOST SPENDER ANALYSIS***\n"
     ]
    },
    {
     "data": {
      "text/html": [
       "<div>\n",
       "<style scoped>\n",
       "    .dataframe tbody tr th:only-of-type {\n",
       "        vertical-align: middle;\n",
       "    }\n",
       "\n",
       "    .dataframe tbody tr th {\n",
       "        vertical-align: top;\n",
       "    }\n",
       "\n",
       "    .dataframe thead th {\n",
       "        text-align: right;\n",
       "    }\n",
       "</style>\n",
       "<table border=\"1\" class=\"dataframe\">\n",
       "  <thead>\n",
       "    <tr style=\"text-align: right;\">\n",
       "      <th></th>\n",
       "      <th>SN</th>\n",
       "      <th>Purchase Count</th>\n",
       "      <th>Total Purchase</th>\n",
       "      <th>Average Purchase</th>\n",
       "    </tr>\n",
       "  </thead>\n",
       "  <tbody>\n",
       "    <tr>\n",
       "      <th>0</th>\n",
       "      <td>Undirrala66</td>\n",
       "      <td>5</td>\n",
       "      <td>$17.06</td>\n",
       "      <td>$3.41</td>\n",
       "    </tr>\n",
       "    <tr>\n",
       "      <th>1</th>\n",
       "      <td>Saedue76</td>\n",
       "      <td>4</td>\n",
       "      <td>$13.56</td>\n",
       "      <td>$3.39</td>\n",
       "    </tr>\n",
       "    <tr>\n",
       "      <th>2</th>\n",
       "      <td>Mindimnya67</td>\n",
       "      <td>4</td>\n",
       "      <td>$12.74</td>\n",
       "      <td>$3.18</td>\n",
       "    </tr>\n",
       "    <tr>\n",
       "      <th>3</th>\n",
       "      <td>Haellysu29</td>\n",
       "      <td>3</td>\n",
       "      <td>$12.73</td>\n",
       "      <td>$4.24</td>\n",
       "    </tr>\n",
       "    <tr>\n",
       "      <th>4</th>\n",
       "      <td>Eoda93</td>\n",
       "      <td>3</td>\n",
       "      <td>$11.58</td>\n",
       "      <td>$3.86</td>\n",
       "    </tr>\n",
       "  </tbody>\n",
       "</table>\n",
       "</div>"
      ],
      "text/plain": [
       "            SN  Purchase Count Total Purchase Average Purchase\n",
       "0  Undirrala66               5         $17.06            $3.41\n",
       "1     Saedue76               4         $13.56            $3.39\n",
       "2  Mindimnya67               4         $12.74            $3.18\n",
       "3   Haellysu29               3         $12.73            $4.24\n",
       "4       Eoda93               3         $11.58            $3.86"
      ]
     },
     "execution_count": 84,
     "metadata": {},
     "output_type": "execute_result"
    }
   ],
   "source": [
    "#final spenders analysis\n",
    "top_summary = top_sn_rename[[\"Purchase Count\", \"Total Purchase\", \"Average Purchase\"]]\n",
    "print(\"***MOST SPENDER ANALYSIS***\")\n",
    "top_summary.reset_index().head()"
   ]
  },
  {
   "cell_type": "code",
   "execution_count": 85,
   "metadata": {},
   "outputs": [
    {
     "data": {
      "text/plain": [
       "3       92\n",
       "54     101\n",
       "193    101\n",
       "226     92\n",
       "415     92\n",
       "431     92\n",
       "458     92\n",
       "509     92\n",
       "572     92\n",
       "606    101\n",
       "612    101\n",
       "648     92\n",
       "663    101\n",
       "737    101\n",
       "Name: Item ID, dtype: int64"
      ]
     },
     "execution_count": 85,
     "metadata": {},
     "output_type": "execute_result"
    }
   ],
   "source": [
    "#most popular 5 items, itemID, item name, purchase count, item price, total purchase value\n",
    "#Upon much research I noticed that someone item has two different IDs ex)item called Final Critic has both item ID 92 and item ID 101.\n",
    "#I have decided to group them by both name and ID and sort the data based on item I\n",
    "#item search result for Fianl Critic item. it has two different item IDs\n",
    "data.loc[data[\"Item Name\"] == \"Final Critic\", \"Item ID\"]"
   ]
  },
  {
   "cell_type": "code",
   "execution_count": 86,
   "metadata": {},
   "outputs": [
    {
     "data": {
      "text/html": [
       "<div>\n",
       "<style scoped>\n",
       "    .dataframe tbody tr th:only-of-type {\n",
       "        vertical-align: middle;\n",
       "    }\n",
       "\n",
       "    .dataframe tbody tr th {\n",
       "        vertical-align: top;\n",
       "    }\n",
       "\n",
       "    .dataframe thead th {\n",
       "        text-align: right;\n",
       "    }\n",
       "</style>\n",
       "<table border=\"1\" class=\"dataframe\">\n",
       "  <thead>\n",
       "    <tr style=\"text-align: right;\">\n",
       "      <th></th>\n",
       "      <th>Item Name</th>\n",
       "      <th>Item ID</th>\n",
       "      <th>Purchase Count</th>\n",
       "      <th>Total Purchase</th>\n",
       "      <th>Item Price</th>\n",
       "    </tr>\n",
       "  </thead>\n",
       "  <tbody>\n",
       "    <tr>\n",
       "      <th>0</th>\n",
       "      <td>Abyssal Shard</td>\n",
       "      <td>162</td>\n",
       "      <td>3</td>\n",
       "      <td>6.12</td>\n",
       "      <td>2.04</td>\n",
       "    </tr>\n",
       "    <tr>\n",
       "      <th>1</th>\n",
       "      <td>Aetherius, Boon of the Blessed</td>\n",
       "      <td>137</td>\n",
       "      <td>4</td>\n",
       "      <td>19.00</td>\n",
       "      <td>4.75</td>\n",
       "    </tr>\n",
       "    <tr>\n",
       "      <th>2</th>\n",
       "      <td>Agatha</td>\n",
       "      <td>120</td>\n",
       "      <td>5</td>\n",
       "      <td>9.55</td>\n",
       "      <td>1.91</td>\n",
       "    </tr>\n",
       "    <tr>\n",
       "      <th>3</th>\n",
       "      <td>Alpha</td>\n",
       "      <td>130</td>\n",
       "      <td>7</td>\n",
       "      <td>10.92</td>\n",
       "      <td>1.56</td>\n",
       "    </tr>\n",
       "    <tr>\n",
       "      <th>4</th>\n",
       "      <td>Alpha, Oath of Zeal</td>\n",
       "      <td>79</td>\n",
       "      <td>7</td>\n",
       "      <td>20.16</td>\n",
       "      <td>2.88</td>\n",
       "    </tr>\n",
       "  </tbody>\n",
       "</table>\n",
       "</div>"
      ],
      "text/plain": [
       "                        Item Name  Item ID  Purchase Count  Total Purchase  \\\n",
       "0                   Abyssal Shard      162               3            6.12   \n",
       "1  Aetherius, Boon of the Blessed      137               4           19.00   \n",
       "2                          Agatha      120               5            9.55   \n",
       "3                           Alpha      130               7           10.92   \n",
       "4             Alpha, Oath of Zeal       79               7           20.16   \n",
       "\n",
       "   Item Price  \n",
       "0        2.04  \n",
       "1        4.75  \n",
       "2        1.91  \n",
       "3        1.56  \n",
       "4        2.88  "
      ]
     },
     "execution_count": 86,
     "metadata": {},
     "output_type": "execute_result"
    }
   ],
   "source": [
    "top_item = data.groupby([\"Item Name\", \"Item ID\"])\n",
    "top_id = pd.DataFrame(top_item[\"Item ID\"].count())\n",
    "top_id_rename = top_id.rename(columns={\"Item ID\":\"Purchase Count\"})\n",
    "item_total = pd.DataFrame(top_item[\"Price\"].sum())\n",
    "item_total_rename = item_total.rename(columns={\"Price\":\"Total Price\"})\n",
    "top_id_rename[\"Total Purchase\"] = item_total_rename\n",
    "item_price = pd.DataFrame(top_item[\"Price\"].sum()/top_item[\"Item ID\"].count())\n",
    "item_price_rename = item_price.rename(columns={0 :\"Item Price\"})\n",
    "top_id_rename[\"Item Price\"] = item_price\n",
    "top_id_rename.reset_index().head()"
   ]
  },
  {
   "cell_type": "code",
   "execution_count": 87,
   "metadata": {},
   "outputs": [
    {
     "name": "stdout",
     "output_type": "stream",
     "text": [
      "***MOST POPULAR ITEM***\n"
     ]
    },
    {
     "data": {
      "text/html": [
       "<div>\n",
       "<style scoped>\n",
       "    .dataframe tbody tr th:only-of-type {\n",
       "        vertical-align: middle;\n",
       "    }\n",
       "\n",
       "    .dataframe tbody tr th {\n",
       "        vertical-align: top;\n",
       "    }\n",
       "\n",
       "    .dataframe thead th {\n",
       "        text-align: right;\n",
       "    }\n",
       "</style>\n",
       "<table border=\"1\" class=\"dataframe\">\n",
       "  <thead>\n",
       "    <tr style=\"text-align: right;\">\n",
       "      <th></th>\n",
       "      <th>Item Name</th>\n",
       "      <th>Item ID</th>\n",
       "      <th>Purchase Count</th>\n",
       "      <th>Total Purchase</th>\n",
       "      <th>Item Price</th>\n",
       "    </tr>\n",
       "  </thead>\n",
       "  <tbody>\n",
       "    <tr>\n",
       "      <th>0</th>\n",
       "      <td>Betrayal, Whisper of Grieving Widows</td>\n",
       "      <td>39</td>\n",
       "      <td>11</td>\n",
       "      <td>$25.85</td>\n",
       "      <td>$2.35</td>\n",
       "    </tr>\n",
       "    <tr>\n",
       "      <th>1</th>\n",
       "      <td>Arcane Gem</td>\n",
       "      <td>84</td>\n",
       "      <td>11</td>\n",
       "      <td>$24.53</td>\n",
       "      <td>$2.23</td>\n",
       "    </tr>\n",
       "    <tr>\n",
       "      <th>2</th>\n",
       "      <td>Retribution Axe</td>\n",
       "      <td>34</td>\n",
       "      <td>9</td>\n",
       "      <td>$37.26</td>\n",
       "      <td>$4.14</td>\n",
       "    </tr>\n",
       "    <tr>\n",
       "      <th>3</th>\n",
       "      <td>Trickster</td>\n",
       "      <td>31</td>\n",
       "      <td>9</td>\n",
       "      <td>$18.63</td>\n",
       "      <td>$2.07</td>\n",
       "    </tr>\n",
       "    <tr>\n",
       "      <th>4</th>\n",
       "      <td>Serenity</td>\n",
       "      <td>13</td>\n",
       "      <td>9</td>\n",
       "      <td>$13.41</td>\n",
       "      <td>$1.49</td>\n",
       "    </tr>\n",
       "  </tbody>\n",
       "</table>\n",
       "</div>"
      ],
      "text/plain": [
       "                              Item Name  Item ID  Purchase Count  \\\n",
       "0  Betrayal, Whisper of Grieving Widows       39              11   \n",
       "1                            Arcane Gem       84              11   \n",
       "2                       Retribution Axe       34               9   \n",
       "3                             Trickster       31               9   \n",
       "4                              Serenity       13               9   \n",
       "\n",
       "  Total Purchase Item Price  \n",
       "0         $25.85      $2.35  \n",
       "1         $24.53      $2.23  \n",
       "2         $37.26      $4.14  \n",
       "3         $18.63      $2.07  \n",
       "4         $13.41      $1.49  "
      ]
     },
     "execution_count": 87,
     "metadata": {},
     "output_type": "execute_result"
    }
   ],
   "source": [
    "#now we are going to sort out the above table to determine the most popular items(by count number) and most profitable items(by total purchase number).\n",
    "item_popular = top_id_rename.sort_values([\"Purchase Count\"], ascending=False)\n",
    "item_popular[\"Total Purchase\"] = item_popular[\"Total Purchase\"].map(\"${:.2f}\".format)\n",
    "item_popular[\"Item Price\"] = item_popular[\"Item Price\"].map(\"${:.2f}\".format)\n",
    "print(\"***MOST POPULAR ITEM***\")\n",
    "item_popular.reset_index().head()"
   ]
  },
  {
   "cell_type": "code",
   "execution_count": 88,
   "metadata": {},
   "outputs": [
    {
     "name": "stdout",
     "output_type": "stream",
     "text": [
      "***MOST PROFITABLE ITEM***\n"
     ]
    },
    {
     "data": {
      "text/html": [
       "<div>\n",
       "<style scoped>\n",
       "    .dataframe tbody tr th:only-of-type {\n",
       "        vertical-align: middle;\n",
       "    }\n",
       "\n",
       "    .dataframe tbody tr th {\n",
       "        vertical-align: top;\n",
       "    }\n",
       "\n",
       "    .dataframe thead th {\n",
       "        text-align: right;\n",
       "    }\n",
       "</style>\n",
       "<table border=\"1\" class=\"dataframe\">\n",
       "  <thead>\n",
       "    <tr style=\"text-align: right;\">\n",
       "      <th></th>\n",
       "      <th>Item Name</th>\n",
       "      <th>Item ID</th>\n",
       "      <th>Purchase Count</th>\n",
       "      <th>Total Purchase</th>\n",
       "      <th>Item Price</th>\n",
       "    </tr>\n",
       "  </thead>\n",
       "  <tbody>\n",
       "    <tr>\n",
       "      <th>0</th>\n",
       "      <td>Retribution Axe</td>\n",
       "      <td>34</td>\n",
       "      <td>9</td>\n",
       "      <td>$37.26</td>\n",
       "      <td>$4.14</td>\n",
       "    </tr>\n",
       "    <tr>\n",
       "      <th>1</th>\n",
       "      <td>Spectral Diamond Doomblade</td>\n",
       "      <td>115</td>\n",
       "      <td>7</td>\n",
       "      <td>$29.75</td>\n",
       "      <td>$4.25</td>\n",
       "    </tr>\n",
       "    <tr>\n",
       "      <th>2</th>\n",
       "      <td>Orenmir</td>\n",
       "      <td>32</td>\n",
       "      <td>6</td>\n",
       "      <td>$29.70</td>\n",
       "      <td>$4.95</td>\n",
       "    </tr>\n",
       "    <tr>\n",
       "      <th>3</th>\n",
       "      <td>Singed Scalpel</td>\n",
       "      <td>103</td>\n",
       "      <td>6</td>\n",
       "      <td>$29.22</td>\n",
       "      <td>$4.87</td>\n",
       "    </tr>\n",
       "    <tr>\n",
       "      <th>4</th>\n",
       "      <td>Splitter, Foe Of Subtlety</td>\n",
       "      <td>107</td>\n",
       "      <td>8</td>\n",
       "      <td>$28.88</td>\n",
       "      <td>$3.61</td>\n",
       "    </tr>\n",
       "  </tbody>\n",
       "</table>\n",
       "</div>"
      ],
      "text/plain": [
       "                    Item Name  Item ID  Purchase Count Total Purchase  \\\n",
       "0             Retribution Axe       34               9         $37.26   \n",
       "1  Spectral Diamond Doomblade      115               7         $29.75   \n",
       "2                     Orenmir       32               6         $29.70   \n",
       "3              Singed Scalpel      103               6         $29.22   \n",
       "4   Splitter, Foe Of Subtlety      107               8         $28.88   \n",
       "\n",
       "  Item Price  \n",
       "0      $4.14  \n",
       "1      $4.25  \n",
       "2      $4.95  \n",
       "3      $4.87  \n",
       "4      $3.61  "
      ]
     },
     "execution_count": 88,
     "metadata": {},
     "output_type": "execute_result"
    }
   ],
   "source": [
    "item_profit = top_id_rename.sort_values([\"Total Purchase\"], ascending=False)\n",
    "item_profit[\"Total Purchase\"] = item_profit[\"Total Purchase\"].map(\"${:.2f}\".format)\n",
    "item_profit[\"Item Price\"] = item_profit[\"Item Price\"].map(\"${:.2f}\".format)\n",
    "print(\"***MOST PROFITABLE ITEM***\")\n",
    "item_profit.reset_index().head()"
   ]
  },
  {
   "cell_type": "markdown",
   "metadata": {},
   "source": [
    "##### DATA ANALYSIS\n",
    "\n",
    "* Most popular gender group in Heroes of Pymoli is male and age group is 18-22.\n",
    "* Although most popular item in the game was Betrayal, Whisper of Grieving Widows(ID:39), most profitable item was Retribution Axe(ID:34), which was sold for 4.14 dollars each. \n",
    "* Each player spent nearly 3 dollars purchase on items."
   ]
  },
  {
   "cell_type": "code",
   "execution_count": null,
   "metadata": {},
   "outputs": [],
   "source": []
  },
  {
   "cell_type": "code",
   "execution_count": null,
   "metadata": {},
   "outputs": [],
   "source": []
  }
 ],
 "metadata": {
  "kernelspec": {
   "display_name": "Python 3",
   "language": "python",
   "name": "python3"
  },
  "language_info": {
   "codemirror_mode": {
    "name": "ipython",
    "version": 3
   },
   "file_extension": ".py",
   "mimetype": "text/x-python",
   "name": "python",
   "nbconvert_exporter": "python",
   "pygments_lexer": "ipython3",
   "version": "3.6.4"
  }
 },
 "nbformat": 4,
 "nbformat_minor": 2
}
